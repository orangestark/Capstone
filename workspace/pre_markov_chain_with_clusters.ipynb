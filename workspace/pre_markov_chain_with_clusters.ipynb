{
 "cells": [
  {
   "cell_type": "code",
   "execution_count": 1,
   "id": "08e659ae",
   "metadata": {},
   "outputs": [],
   "source": [
    "import pandas as pd\n",
    "from ip_to_geo_1 import ip_to_geo\n",
    "import json\n",
    "from util import *"
   ]
  },
  {
   "cell_type": "code",
   "execution_count": 2,
   "id": "b4ad5b1f",
   "metadata": {},
   "outputs": [],
   "source": [
    "df = pd.read_csv('All_Periods.csv', encoding='utf-8-sig')"
   ]
  },
  {
   "cell_type": "code",
   "execution_count": 19,
   "id": "7e07f9ac",
   "metadata": {},
   "outputs": [],
   "source": [
    "group = [[0,0,0,0] for i in range(3)]"
   ]
  },
  {
   "cell_type": "code",
   "execution_count": 20,
   "id": "33e6ef84",
   "metadata": {},
   "outputs": [],
   "source": [
    "group[0][0] = df['Potential1'].value_counts()['High']\n",
    "group[0][1] = df['Potential1'].value_counts()['Medium']\n",
    "group[0][2] = df['Potential1'].value_counts()['Low']\n",
    "group[0][3] = df['Potential1'].value_counts()[\"None\"]\n",
    "#removing 'Mohamed Aziz Abderrahmen' Low\n",
    "group[0][2] -=1"
   ]
  },
  {
   "cell_type": "code",
   "execution_count": 21,
   "id": "91df07d9",
   "metadata": {},
   "outputs": [],
   "source": [
    "group[1][0] = df['Potential2'].value_counts()['High']\n",
    "group[1][1] = df['Potential2'].value_counts()['Medium']\n",
    "group[1][2] = df['Potential2'].value_counts()['Low']\n",
    "group[1][3] = df['Potential2'].value_counts()[\"None\"]\n",
    "#removing 'Mohamed Aziz Abderrahmen' High\n",
    "group[1][0] -=1"
   ]
  },
  {
   "cell_type": "code",
   "execution_count": 22,
   "id": "31bc29f1",
   "metadata": {},
   "outputs": [],
   "source": [
    "group[2][0] = df['Potential3'].value_counts()['High']\n",
    "group[2][1] = df['Potential3'].value_counts()['Medium']\n",
    "group[2][2] = df['Potential3'].value_counts()['Low']\n",
    "group[2][3] = df['Potential3'].value_counts()[\"None\"]"
   ]
  },
  {
   "cell_type": "code",
   "execution_count": 36,
   "id": "3ef3162c",
   "metadata": {},
   "outputs": [
    {
     "data": {
      "text/plain": [
       "[[110, 23, 92, 34], [148, 22, 56, 33], [130, 18, 78, 33]]"
      ]
     },
     "execution_count": 36,
     "metadata": {},
     "output_type": "execute_result"
    }
   ],
   "source": [
    "group"
   ]
  },
  {
   "cell_type": "code",
   "execution_count": 43,
   "id": "3952f853",
   "metadata": {},
   "outputs": [],
   "source": [
    "transition = [[0,0,0,0] for i in range(4)]\n",
    "transition_2 = [[0,0,0,0] for i in range(4)]\n",
    "index = {'High': 0,\n",
    "        'Medium': 1,\n",
    "        'Low': 2,\n",
    "        'None': 3}"
   ]
  },
  {
   "cell_type": "code",
   "execution_count": 45,
   "id": "271e4ed1",
   "metadata": {},
   "outputs": [
    {
     "data": {
      "text/plain": [
       "[[92, 5, 13, 0], [7, 16, 0, 0], [48, 1, 43, 0], [1, 0, 0, 33]]"
      ]
     },
     "execution_count": 45,
     "metadata": {},
     "output_type": "execute_result"
    }
   ],
   "source": [
    "transition"
   ]
  },
  {
   "cell_type": "code",
   "execution_count": 44,
   "id": "95fd715f",
   "metadata": {},
   "outputs": [
    {
     "name": "stdout",
     "output_type": "stream",
     "text": [
      "found\n",
      "found\n"
     ]
    }
   ],
   "source": [
    "for i, row in df.iterrows():\n",
    "    if row['User full name'] == 'Mohamed Aziz Abderrahmen':\n",
    "        print('found')\n",
    "        continue\n",
    "    first = index[row['Potential1']]\n",
    "    second = index[row['Potential2']]\n",
    "    transition[first][second] += 1\n",
    "for i, row in df.iterrows():\n",
    "    if row['User full name'] == 'Mohamed Aziz Abderrahmen':\n",
    "        print('found')\n",
    "        continue\n",
    "    first = index[row['Potential2']]\n",
    "    second = index[row['Potential3']]\n",
    "    transition_2[first][second] += 1"
   ]
  },
  {
   "cell_type": "code",
   "execution_count": 46,
   "id": "2fbe13fb",
   "metadata": {},
   "outputs": [],
   "source": [
    "transition_p = [[],[],[],[]]\n",
    "for i in range(4):\n",
    "    transition_p[i] = transition[i]/group[0][i]"
   ]
  },
  {
   "cell_type": "code",
   "execution_count": 47,
   "id": "f33d589d",
   "metadata": {},
   "outputs": [
    {
     "data": {
      "text/plain": [
       "[array([0.83636364, 0.04545455, 0.11818182, 0.        ]),\n",
       " array([0.30434783, 0.69565217, 0.        , 0.        ]),\n",
       " array([0.52173913, 0.01086957, 0.4673913 , 0.        ]),\n",
       " array([0.02941176, 0.        , 0.        , 0.97058824])]"
      ]
     },
     "execution_count": 47,
     "metadata": {},
     "output_type": "execute_result"
    }
   ],
   "source": [
    "transition_p"
   ]
  },
  {
   "cell_type": "code",
   "execution_count": 48,
   "id": "f450ceb0",
   "metadata": {},
   "outputs": [],
   "source": [
    "transition_p2 = [[],[],[],[]]\n",
    "for i in range(4):\n",
    "    transition_p2[i] = transition_2[i]/group[1][i]"
   ]
  },
  {
   "cell_type": "code",
   "execution_count": 49,
   "id": "68e1f32e",
   "metadata": {},
   "outputs": [
    {
     "data": {
      "text/plain": [
       "[array([0.80405405, 0.        , 0.19594595, 0.        ]),\n",
       " array([0.09090909, 0.81818182, 0.09090909, 0.        ]),\n",
       " array([0.16071429, 0.        , 0.83928571, 0.        ]),\n",
       " array([0., 0., 0., 1.])]"
      ]
     },
     "execution_count": 49,
     "metadata": {},
     "output_type": "execute_result"
    }
   ],
   "source": [
    "transition_p2"
   ]
  },
  {
   "cell_type": "code",
   "execution_count": 50,
   "id": "7262c6cf",
   "metadata": {},
   "outputs": [],
   "source": [
    "output = [[0 for i in range(12)] for j in range(12)]"
   ]
  },
  {
   "cell_type": "code",
   "execution_count": 58,
   "id": "f1dfbdcc",
   "metadata": {},
   "outputs": [
    {
     "name": "stdout",
     "output_type": "stream",
     "text": [
      "[0, 0, 0, 0, 0, 0, 0, 0, 0.09, 0.82, 0.09, 0.0]\n"
     ]
    }
   ],
   "source": [
    "for i in range(4):\n",
    "    for j in range(4):\n",
    "        output[i][j+4] = round(transition_p[i][j], 2)\n",
    "for i in range(4):\n",
    "    for j in range(4):\n",
    "        output[i+4][j+8] = round(transition_p2[i][j], 2)\n",
    "#manually modifying sum of row to 1\n",
    "output[0][5] -= 0.01\n",
    "for i in range(8,12):\n",
    "    output[i][-1] = 0.5\n",
    "    output[i][-2] = 0.5\n",
    "\n",
    "for l in output:\n",
    "    if sum(l) != 1:\n",
    "        print(l)"
   ]
  },
  {
   "cell_type": "code",
   "execution_count": 59,
   "id": "bec3985b",
   "metadata": {},
   "outputs": [],
   "source": [
    "output \n",
    "op = ''\n",
    "for row in output:\n",
    "    for c in row:\n",
    "        op += str(c)\n",
    "        op += ', '"
   ]
  },
  {
   "cell_type": "code",
   "execution_count": 60,
   "id": "fc984a89",
   "metadata": {},
   "outputs": [
    {
     "data": {
      "text/plain": [
       "'0, 0, 0, 0, 0.84, 0.04, 0.12, 0.0, 0, 0, 0, 0, 0, 0, 0, 0, 0.3, 0.7, 0.0, 0.0, 0, 0, 0, 0, 0, 0, 0, 0, 0.52, 0.01, 0.47, 0.0, 0, 0, 0, 0, 0, 0, 0, 0, 0.03, 0.0, 0.0, 0.97, 0, 0, 0, 0, 0, 0, 0, 0, 0, 0, 0, 0, 0.8, 0.0, 0.2, 0.0, 0, 0, 0, 0, 0, 0, 0, 0, 0.09, 0.82, 0.09, 0.0, 0, 0, 0, 0, 0, 0, 0, 0, 0.16, 0.0, 0.84, 0.0, 0, 0, 0, 0, 0, 0, 0, 0, 0.0, 0.0, 0.0, 1.0, 0, 0, 0, 0, 0, 0, 0, 0, 0, 0, 0.5, 0.5, 0, 0, 0, 0, 0, 0, 0, 0, 0, 0, 0.5, 0.5, 0, 0, 0, 0, 0, 0, 0, 0, 0, 0, 0.5, 0.5, 0, 0, 0, 0, 0, 0, 0, 0, 0, 0, 0.5, 0.5, '"
      ]
     },
     "execution_count": 60,
     "metadata": {},
     "output_type": "execute_result"
    }
   ],
   "source": [
    "op"
   ]
  },
  {
   "cell_type": "code",
   "execution_count": 61,
   "id": "ebe5e838",
   "metadata": {},
   "outputs": [],
   "source": [
    "df.loc[df['Potential1'] == 'High', 'Potential1'] = 'Period-I-High'\n",
    "df.loc[df['Potential1'] == 'Medium', 'Potential1'] = 'Period-I-Medium'\n",
    "df.loc[df['Potential1'] == 'Low', 'Potential1'] = 'Period-I-Low'\n",
    "df.loc[df['Potential1'] == 'None', 'Potential1'] = 'Period-I-None'\n",
    "\n",
    "df.loc[df['Potential2'] == 'High', 'Potential2'] = 'Period-II-High'\n",
    "df.loc[df['Potential2'] == 'Medium', 'Potential2'] = 'Period-II-Medium'\n",
    "df.loc[df['Potential2'] == 'Low', 'Potential2'] = 'Period-II-Low'\n",
    "df.loc[df['Potential2'] == 'None', 'Potential2'] = 'Period-II-None'\n",
    "\n",
    "df.loc[df['Potential3'] == 'High', 'Potential3'] = 'Period-III-High'\n",
    "df.loc[df['Potential3'] == 'Medium', 'Potential3'] = 'Period-III-Medium'\n",
    "df.loc[df['Potential3'] == 'Low', 'Potential3'] = 'Period-III-Low'\n",
    "df.loc[df['Potential3'] == 'None', 'Potential3'] = 'Period-III-None'"
   ]
  },
  {
   "cell_type": "code",
   "execution_count": 62,
   "id": "d98b30f4",
   "metadata": {},
   "outputs": [
    {
     "data": {
      "text/html": [
       "<div>\n",
       "<style scoped>\n",
       "    .dataframe tbody tr th:only-of-type {\n",
       "        vertical-align: middle;\n",
       "    }\n",
       "\n",
       "    .dataframe tbody tr th {\n",
       "        vertical-align: top;\n",
       "    }\n",
       "\n",
       "    .dataframe thead th {\n",
       "        text-align: right;\n",
       "    }\n",
       "</style>\n",
       "<table border=\"1\" class=\"dataframe\">\n",
       "  <thead>\n",
       "    <tr style=\"text-align: right;\">\n",
       "      <th></th>\n",
       "      <th>User full name</th>\n",
       "      <th>Potential1</th>\n",
       "      <th>Potential2</th>\n",
       "      <th>Potential3</th>\n",
       "    </tr>\n",
       "  </thead>\n",
       "  <tbody>\n",
       "    <tr>\n",
       "      <th>0</th>\n",
       "      <td>Abdullah Al Jawhi</td>\n",
       "      <td>Period-I-None</td>\n",
       "      <td>Period-II-None</td>\n",
       "      <td>Period-III-None</td>\n",
       "    </tr>\n",
       "    <tr>\n",
       "      <th>1</th>\n",
       "      <td>Achraf Jday</td>\n",
       "      <td>Period-I-High</td>\n",
       "      <td>Period-II-High</td>\n",
       "      <td>Period-III-High</td>\n",
       "    </tr>\n",
       "    <tr>\n",
       "      <th>2</th>\n",
       "      <td>Adan Bougherara</td>\n",
       "      <td>Period-I-Medium</td>\n",
       "      <td>Period-II-Medium</td>\n",
       "      <td>Period-III-Medium</td>\n",
       "    </tr>\n",
       "    <tr>\n",
       "      <th>3</th>\n",
       "      <td>Adrien Bourmault</td>\n",
       "      <td>Period-I-Medium</td>\n",
       "      <td>Period-II-High</td>\n",
       "      <td>Period-III-High</td>\n",
       "    </tr>\n",
       "    <tr>\n",
       "      <th>4</th>\n",
       "      <td>Alessia Loi</td>\n",
       "      <td>Period-I-Low</td>\n",
       "      <td>Period-II-Low</td>\n",
       "      <td>Period-III-Low</td>\n",
       "    </tr>\n",
       "    <tr>\n",
       "      <th>...</th>\n",
       "      <td>...</td>\n",
       "      <td>...</td>\n",
       "      <td>...</td>\n",
       "      <td>...</td>\n",
       "    </tr>\n",
       "    <tr>\n",
       "      <th>255</th>\n",
       "      <td>Youssef Alaa Elsayye Abdalaziz</td>\n",
       "      <td>Period-I-Medium</td>\n",
       "      <td>Period-II-Medium</td>\n",
       "      <td>Period-III-Medium</td>\n",
       "    </tr>\n",
       "    <tr>\n",
       "      <th>256</th>\n",
       "      <td>Zidane Bourekh</td>\n",
       "      <td>Period-I-High</td>\n",
       "      <td>Period-II-High</td>\n",
       "      <td>Period-III-High</td>\n",
       "    </tr>\n",
       "    <tr>\n",
       "      <th>257</th>\n",
       "      <td>Zin Maafa</td>\n",
       "      <td>Period-I-High</td>\n",
       "      <td>Period-II-High</td>\n",
       "      <td>Period-III-High</td>\n",
       "    </tr>\n",
       "    <tr>\n",
       "      <th>258</th>\n",
       "      <td>Ziyou Li</td>\n",
       "      <td>Period-I-High</td>\n",
       "      <td>Period-II-High</td>\n",
       "      <td>Period-III-Low</td>\n",
       "    </tr>\n",
       "    <tr>\n",
       "      <th>259</th>\n",
       "      <td>Zoé Dumoulin</td>\n",
       "      <td>Period-I-Low</td>\n",
       "      <td>Period-II-Low</td>\n",
       "      <td>Period-III-Low</td>\n",
       "    </tr>\n",
       "  </tbody>\n",
       "</table>\n",
       "<p>260 rows × 4 columns</p>\n",
       "</div>"
      ],
      "text/plain": [
       "                     User full name       Potential1        Potential2  \\\n",
       "0                 Abdullah Al Jawhi    Period-I-None    Period-II-None   \n",
       "1                       Achraf Jday    Period-I-High    Period-II-High   \n",
       "2                   Adan Bougherara  Period-I-Medium  Period-II-Medium   \n",
       "3                  Adrien Bourmault  Period-I-Medium    Period-II-High   \n",
       "4                       Alessia Loi     Period-I-Low     Period-II-Low   \n",
       "..                              ...              ...               ...   \n",
       "255  Youssef Alaa Elsayye Abdalaziz  Period-I-Medium  Period-II-Medium   \n",
       "256                  Zidane Bourekh    Period-I-High    Period-II-High   \n",
       "257                       Zin Maafa    Period-I-High    Period-II-High   \n",
       "258                        Ziyou Li    Period-I-High    Period-II-High   \n",
       "259                    Zoé Dumoulin     Period-I-Low     Period-II-Low   \n",
       "\n",
       "            Potential3  \n",
       "0      Period-III-None  \n",
       "1      Period-III-High  \n",
       "2    Period-III-Medium  \n",
       "3      Period-III-High  \n",
       "4       Period-III-Low  \n",
       "..                 ...  \n",
       "255  Period-III-Medium  \n",
       "256    Period-III-High  \n",
       "257    Period-III-High  \n",
       "258     Period-III-Low  \n",
       "259     Period-III-Low  \n",
       "\n",
       "[260 rows x 4 columns]"
      ]
     },
     "execution_count": 62,
     "metadata": {},
     "output_type": "execute_result"
    }
   ],
   "source": [
    "df"
   ]
  },
  {
   "cell_type": "code",
   "execution_count": 63,
   "id": "44eb9efc",
   "metadata": {},
   "outputs": [],
   "source": [
    "df.to_csv('./period_with_clusters_F20.csv', mode = 'w', index = False, header = True, encoding='utf-8-sig')"
   ]
  },
  {
   "cell_type": "code",
   "execution_count": null,
   "id": "a59b0f5a",
   "metadata": {},
   "outputs": [],
   "source": []
  }
 ],
 "metadata": {
  "kernelspec": {
   "display_name": "Python 3",
   "language": "python",
   "name": "python3"
  },
  "language_info": {
   "codemirror_mode": {
    "name": "ipython",
    "version": 3
   },
   "file_extension": ".py",
   "mimetype": "text/x-python",
   "name": "python",
   "nbconvert_exporter": "python",
   "pygments_lexer": "ipython3",
   "version": "3.8.3"
  }
 },
 "nbformat": 4,
 "nbformat_minor": 5
}
