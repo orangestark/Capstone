{
 "cells": [
  {
   "cell_type": "code",
   "execution_count": null,
   "id": "21120002-643a-4dcb-b45c-bfdedf496a27",
   "metadata": {},
   "outputs": [],
   "source": [
    "import numpy as np\n",
    "import matplotlib\n",
    "import matplotlib.pyplot as plt\n",
    "import pandas as pd\n",
    "from sklearn import datasets, linear_model, preprocessing"
   ]
  },
  {
   "cell_type": "code",
   "execution_count": null,
   "id": "d8cedee8-4c35-4945-b913-021ed49a3230",
   "metadata": {},
   "outputs": [],
   "source": [
    "import requests\n",
    "import json"
   ]
  },
  {
   "cell_type": "code",
   "execution_count": null,
   "id": "23e9d9ad-0b18-405e-bda2-9787a34d10ba",
   "metadata": {},
   "outputs": [],
   "source": [
    "def ip_to_geo(ip):\n",
    "    request_url = 'https://geolocation-db.com/jsonp/' + ip\n",
    "    # Send request and decode the result\n",
    "    response = requests.get(request_url)\n",
    "    result = response.content.decode()\n",
    "    # Clean the returned string so it just contains the dictionary data for the IP address\n",
    "    result = result.split(\"(\")[1].strip(\")\")\n",
    "    # Convert this data into a dictionary\n",
    "    result  = json.loads(result)\n",
    "    return result"
   ]
  },
  {
   "cell_type": "code",
   "execution_count": null,
   "id": "f7e5fddc-a756-493f-ae9d-01dc5ea8622e",
   "metadata": {},
   "outputs": [],
   "source": [
    "df = pd.read_csv('/Users/scottye/Desktop/Capstone/Data_set/capstone/F21/Logs/HW01.csv')"
   ]
  },
  {
   "cell_type": "code",
   "execution_count": null,
   "id": "a8e719e3-a2ee-442b-96cd-41acbab8b066",
   "metadata": {},
   "outputs": [],
   "source": [
    "df"
   ]
  },
  {
   "cell_type": "code",
   "execution_count": null,
   "id": "1566b99e-f442-49a2-a7c8-be87b6d445e4",
   "metadata": {},
   "outputs": [],
   "source": [
    "import json\n",
    "import requests\n",
    "\n",
    "# Your API key, available from your account page\n",
    "YOUR_GEOLOCATION_KEY = 'b89248f41f9244798f329eec041a8de6'\n",
    "\n",
    "# IP address to test\n",
    "ip_address = '91.160.99.188'\n",
    "\n",
    "response = requests.get('https://ipgeolocation.abstractapi.com/v1/?api_key=' + YOUR_GEOLOCATION_KEY + '&ip_address=' + ip_address)\n",
    "result = json.loads(response.content)\n",
    "print(result)\n"
   ]
  },
  {
   "cell_type": "code",
   "execution_count": null,
   "id": "29a367d6-7107-440d-bb52-522d2609ee87",
   "metadata": {},
   "outputs": [],
   "source": [
    "MAX_NUM = 100000\n",
    "num = 0\n",
    "#df.head()\n",
    "ip_dict = {}\n",
    "for ip in df['IP address']:\n",
    "  try:\n",
    "    if (num < MAX_NUM) and (ip not in ip_dict.keys()):\n",
    "      js = ip_to_geo(ip)\n",
    "      ip_dict[ip] = js\n",
    "      print(ip, js,'\\n')\n",
    "      num += 1\n",
    "  except:\n",
    "    print(\"error:\")\n",
    "    print(ip)\n",
    "\n",
    "print('\\nfinished\\n')"
   ]
  },
  {
   "cell_type": "code",
   "execution_count": null,
   "id": "bb736932-d440-474e-acf8-6c731000a639",
   "metadata": {},
   "outputs": [],
   "source": []
  }
 ],
 "metadata": {
  "kernelspec": {
   "display_name": "Python 3",
   "language": "python",
   "name": "python3"
  },
  "language_info": {
   "codemirror_mode": {
    "name": "ipython",
    "version": 3
   },
   "file_extension": ".py",
   "mimetype": "text/x-python",
   "name": "python",
   "nbconvert_exporter": "python",
   "pygments_lexer": "ipython3",
   "version": "3.7.10"
  }
 },
 "nbformat": 4,
 "nbformat_minor": 5
}
