{
 "cells": [
  {
   "cell_type": "code",
   "execution_count": 1,
   "id": "b76e1f60",
   "metadata": {},
   "outputs": [],
   "source": [
    "import pandas as pd\n",
    "from ip_to_geo_1 import ip_to_geo\n",
    "import json\n",
    "from util import *"
   ]
  },
  {
   "cell_type": "code",
   "execution_count": 2,
   "id": "dc115cb0",
   "metadata": {},
   "outputs": [],
   "source": [
    "df1 = pd.read_csv('./distance/period1.csv', encoding='utf-8-sig')\n",
    "df2 = pd.read_csv('./distance/period2.csv', encoding='utf-8-sig')\n",
    "df3 = pd.read_csv('./distance/period3.csv', encoding='utf-8-sig')"
   ]
  },
  {
   "cell_type": "code",
   "execution_count": 3,
   "id": "9eb6440d",
   "metadata": {},
   "outputs": [
    {
     "data": {
      "text/html": [
       "<div>\n",
       "<style scoped>\n",
       "    .dataframe tbody tr th:only-of-type {\n",
       "        vertical-align: middle;\n",
       "    }\n",
       "\n",
       "    .dataframe tbody tr th {\n",
       "        vertical-align: top;\n",
       "    }\n",
       "\n",
       "    .dataframe thead th {\n",
       "        text-align: right;\n",
       "    }\n",
       "</style>\n",
       "<table border=\"1\" class=\"dataframe\">\n",
       "  <thead>\n",
       "    <tr style=\"text-align: right;\">\n",
       "      <th></th>\n",
       "      <th>User full name</th>\n",
       "      <th>Distance</th>\n",
       "    </tr>\n",
       "  </thead>\n",
       "  <tbody>\n",
       "    <tr>\n",
       "      <th>0</th>\n",
       "      <td>Achraf Jday</td>\n",
       "      <td>13.443166</td>\n",
       "    </tr>\n",
       "    <tr>\n",
       "      <th>1</th>\n",
       "      <td>Adan Bougherara</td>\n",
       "      <td>41.929787</td>\n",
       "    </tr>\n",
       "    <tr>\n",
       "      <th>2</th>\n",
       "      <td>Adrien Bourmault</td>\n",
       "      <td>14813.696327</td>\n",
       "    </tr>\n",
       "    <tr>\n",
       "      <th>3</th>\n",
       "      <td>Alessia Loi</td>\n",
       "      <td>0.000000</td>\n",
       "    </tr>\n",
       "    <tr>\n",
       "      <th>4</th>\n",
       "      <td>Alex Chitu</td>\n",
       "      <td>53.303679</td>\n",
       "    </tr>\n",
       "  </tbody>\n",
       "</table>\n",
       "</div>"
      ],
      "text/plain": [
       "     User full name      Distance\n",
       "0       Achraf Jday     13.443166\n",
       "1   Adan Bougherara     41.929787\n",
       "2  Adrien Bourmault  14813.696327\n",
       "3       Alessia Loi      0.000000\n",
       "4        Alex Chitu     53.303679"
      ]
     },
     "execution_count": 3,
     "metadata": {},
     "output_type": "execute_result"
    }
   ],
   "source": [
    "df1.head()"
   ]
  },
  {
   "cell_type": "code",
   "execution_count": 7,
   "id": "c5189131",
   "metadata": {},
   "outputs": [],
   "source": [
    "df1 = df1.rename(columns = {'Distance': 'Potential1'})\n",
    "df2 = df2.rename(columns = {'Distance': 'Potential2'})\n",
    "df3 = df3.rename(columns = {'Distance': 'Potential3'})"
   ]
  },
  {
   "cell_type": "code",
   "execution_count": 9,
   "id": "bd7f906e",
   "metadata": {},
   "outputs": [
    {
     "data": {
      "text/html": [
       "<div>\n",
       "<style scoped>\n",
       "    .dataframe tbody tr th:only-of-type {\n",
       "        vertical-align: middle;\n",
       "    }\n",
       "\n",
       "    .dataframe tbody tr th {\n",
       "        vertical-align: top;\n",
       "    }\n",
       "\n",
       "    .dataframe thead th {\n",
       "        text-align: right;\n",
       "    }\n",
       "</style>\n",
       "<table border=\"1\" class=\"dataframe\">\n",
       "  <thead>\n",
       "    <tr style=\"text-align: right;\">\n",
       "      <th></th>\n",
       "      <th>User full name</th>\n",
       "      <th>Potential1</th>\n",
       "    </tr>\n",
       "  </thead>\n",
       "  <tbody>\n",
       "    <tr>\n",
       "      <th>0</th>\n",
       "      <td>Achraf Jday</td>\n",
       "      <td>13.443166</td>\n",
       "    </tr>\n",
       "    <tr>\n",
       "      <th>1</th>\n",
       "      <td>Adan Bougherara</td>\n",
       "      <td>41.929787</td>\n",
       "    </tr>\n",
       "    <tr>\n",
       "      <th>2</th>\n",
       "      <td>Adrien Bourmault</td>\n",
       "      <td>14813.696327</td>\n",
       "    </tr>\n",
       "    <tr>\n",
       "      <th>3</th>\n",
       "      <td>Alessia Loi</td>\n",
       "      <td>0.000000</td>\n",
       "    </tr>\n",
       "    <tr>\n",
       "      <th>4</th>\n",
       "      <td>Alex Chitu</td>\n",
       "      <td>53.303679</td>\n",
       "    </tr>\n",
       "  </tbody>\n",
       "</table>\n",
       "</div>"
      ],
      "text/plain": [
       "     User full name    Potential1\n",
       "0       Achraf Jday     13.443166\n",
       "1   Adan Bougherara     41.929787\n",
       "2  Adrien Bourmault  14813.696327\n",
       "3       Alessia Loi      0.000000\n",
       "4        Alex Chitu     53.303679"
      ]
     },
     "execution_count": 9,
     "metadata": {},
     "output_type": "execute_result"
    }
   ],
   "source": [
    "df1.head()"
   ]
  },
  {
   "cell_type": "code",
   "execution_count": 11,
   "id": "f0867709",
   "metadata": {},
   "outputs": [],
   "source": [
    "df12 = pd.merge(df1, df2, on = 'User full name')"
   ]
  },
  {
   "cell_type": "code",
   "execution_count": 12,
   "id": "45db79df",
   "metadata": {},
   "outputs": [],
   "source": [
    "df = pd.merge(df12, df3, on = 'User full name')"
   ]
  },
  {
   "cell_type": "code",
   "execution_count": 13,
   "id": "2bd35f4f",
   "metadata": {},
   "outputs": [
    {
     "data": {
      "text/html": [
       "<div>\n",
       "<style scoped>\n",
       "    .dataframe tbody tr th:only-of-type {\n",
       "        vertical-align: middle;\n",
       "    }\n",
       "\n",
       "    .dataframe tbody tr th {\n",
       "        vertical-align: top;\n",
       "    }\n",
       "\n",
       "    .dataframe thead th {\n",
       "        text-align: right;\n",
       "    }\n",
       "</style>\n",
       "<table border=\"1\" class=\"dataframe\">\n",
       "  <thead>\n",
       "    <tr style=\"text-align: right;\">\n",
       "      <th></th>\n",
       "      <th>User full name</th>\n",
       "      <th>Potential1</th>\n",
       "      <th>Potential2</th>\n",
       "      <th>Potential3</th>\n",
       "    </tr>\n",
       "  </thead>\n",
       "  <tbody>\n",
       "    <tr>\n",
       "      <th>0</th>\n",
       "      <td>Achraf Jday</td>\n",
       "      <td>13.443166</td>\n",
       "      <td>0.000000</td>\n",
       "      <td>32.118510</td>\n",
       "    </tr>\n",
       "    <tr>\n",
       "      <th>1</th>\n",
       "      <td>Adan Bougherara</td>\n",
       "      <td>41.929787</td>\n",
       "      <td>76.905513</td>\n",
       "      <td>3.430781</td>\n",
       "    </tr>\n",
       "    <tr>\n",
       "      <th>2</th>\n",
       "      <td>Adrien Bourmault</td>\n",
       "      <td>14813.696327</td>\n",
       "      <td>368.859366</td>\n",
       "      <td>72.162396</td>\n",
       "    </tr>\n",
       "    <tr>\n",
       "      <th>3</th>\n",
       "      <td>Alessia Loi</td>\n",
       "      <td>0.000000</td>\n",
       "      <td>0.000000</td>\n",
       "      <td>0.000000</td>\n",
       "    </tr>\n",
       "    <tr>\n",
       "      <th>4</th>\n",
       "      <td>Alex Chitu</td>\n",
       "      <td>53.303679</td>\n",
       "      <td>79.955519</td>\n",
       "      <td>79.955519</td>\n",
       "    </tr>\n",
       "  </tbody>\n",
       "</table>\n",
       "</div>"
      ],
      "text/plain": [
       "     User full name    Potential1  Potential2  Potential3\n",
       "0       Achraf Jday     13.443166    0.000000   32.118510\n",
       "1   Adan Bougherara     41.929787   76.905513    3.430781\n",
       "2  Adrien Bourmault  14813.696327  368.859366   72.162396\n",
       "3       Alessia Loi      0.000000    0.000000    0.000000\n",
       "4        Alex Chitu     53.303679   79.955519   79.955519"
      ]
     },
     "execution_count": 13,
     "metadata": {},
     "output_type": "execute_result"
    }
   ],
   "source": [
    "df.head()"
   ]
  },
  {
   "cell_type": "code",
   "execution_count": 24,
   "id": "cc0bc8e2",
   "metadata": {},
   "outputs": [],
   "source": [
    "df.loc[df['Potential1'] > 500, 'Period1'] = 'Period-I-Most'\n",
    "df.loc[(df['Potential1'] > 50) & (df['Potential1'] <= 500), 'Period1'] = 'Period-I-Moderate'\n",
    "df.loc[(df['Potential1'] > 0) & (df['Potential1'] <= 50), 'Period1'] = 'Period-I-Least'\n",
    "df.loc[df['Potential1'] == 0, 'Period1'] = 'Period-I-None'\n",
    "\n",
    "df.loc[df['Potential2'] > 500, 'Period2'] = 'Period-II-Most'\n",
    "df.loc[(df['Potential2'] > 50) & (df['Potential2'] <= 500), 'Period2'] = 'Period-II-Moderate'\n",
    "df.loc[(df['Potential2'] > 0) & (df['Potential2'] <= 50), 'Period2'] = 'Period-II-Least'\n",
    "df.loc[df['Potential2'] == 0, 'Period2'] = 'Period-II-None'\n",
    "\n",
    "df.loc[df['Potential3'] > 500, 'Period3'] = 'Period-III-Most'\n",
    "df.loc[(df['Potential3'] > 50) & (df['Potential3'] <= 500), 'Period3'] = 'Period-III-Moderate'\n",
    "df.loc[(df['Potential3'] > 0) & (df['Potential3'] <= 50), 'Period3'] = 'Period-III-Least'\n",
    "df.loc[df['Potential3'] == 0, 'Period3'] = 'Period-III-None'\n"
   ]
  },
  {
   "cell_type": "code",
   "execution_count": 29,
   "id": "60b71bbc",
   "metadata": {},
   "outputs": [],
   "source": [
    "df = df.drop(columns=['Potential1', 'Potential2', 'Potential3'])"
   ]
  },
  {
   "cell_type": "code",
   "execution_count": 30,
   "id": "546e0c88",
   "metadata": {},
   "outputs": [
    {
     "data": {
      "text/html": [
       "<div>\n",
       "<style scoped>\n",
       "    .dataframe tbody tr th:only-of-type {\n",
       "        vertical-align: middle;\n",
       "    }\n",
       "\n",
       "    .dataframe tbody tr th {\n",
       "        vertical-align: top;\n",
       "    }\n",
       "\n",
       "    .dataframe thead th {\n",
       "        text-align: right;\n",
       "    }\n",
       "</style>\n",
       "<table border=\"1\" class=\"dataframe\">\n",
       "  <thead>\n",
       "    <tr style=\"text-align: right;\">\n",
       "      <th></th>\n",
       "      <th>User full name</th>\n",
       "      <th>Period1</th>\n",
       "      <th>Period2</th>\n",
       "      <th>Period3</th>\n",
       "    </tr>\n",
       "  </thead>\n",
       "  <tbody>\n",
       "    <tr>\n",
       "      <th>0</th>\n",
       "      <td>Achraf Jday</td>\n",
       "      <td>Period-I-Least</td>\n",
       "      <td>Period-II-None</td>\n",
       "      <td>Period-III-Least</td>\n",
       "    </tr>\n",
       "    <tr>\n",
       "      <th>1</th>\n",
       "      <td>Adan Bougherara</td>\n",
       "      <td>Period-I-Least</td>\n",
       "      <td>Period-II-Moderate</td>\n",
       "      <td>Period-III-Least</td>\n",
       "    </tr>\n",
       "    <tr>\n",
       "      <th>2</th>\n",
       "      <td>Adrien Bourmault</td>\n",
       "      <td>Period-I-Most</td>\n",
       "      <td>Period-II-Moderate</td>\n",
       "      <td>Period-III-Moderate</td>\n",
       "    </tr>\n",
       "    <tr>\n",
       "      <th>3</th>\n",
       "      <td>Alessia Loi</td>\n",
       "      <td>Period-I-None</td>\n",
       "      <td>Period-II-None</td>\n",
       "      <td>Period-III-None</td>\n",
       "    </tr>\n",
       "    <tr>\n",
       "      <th>4</th>\n",
       "      <td>Alex Chitu</td>\n",
       "      <td>Period-I-Moderate</td>\n",
       "      <td>Period-II-Moderate</td>\n",
       "      <td>Period-III-Moderate</td>\n",
       "    </tr>\n",
       "    <tr>\n",
       "      <th>...</th>\n",
       "      <td>...</td>\n",
       "      <td>...</td>\n",
       "      <td>...</td>\n",
       "      <td>...</td>\n",
       "    </tr>\n",
       "    <tr>\n",
       "      <th>216</th>\n",
       "      <td>Yossef Abitbol</td>\n",
       "      <td>Period-I-Least</td>\n",
       "      <td>Period-II-Most</td>\n",
       "      <td>Period-III-Most</td>\n",
       "    </tr>\n",
       "    <tr>\n",
       "      <th>217</th>\n",
       "      <td>Zidane Bourekh</td>\n",
       "      <td>Period-I-Least</td>\n",
       "      <td>Period-II-Least</td>\n",
       "      <td>Period-III-None</td>\n",
       "    </tr>\n",
       "    <tr>\n",
       "      <th>218</th>\n",
       "      <td>Zin Maafa</td>\n",
       "      <td>Period-I-Most</td>\n",
       "      <td>Period-II-None</td>\n",
       "      <td>Period-III-Moderate</td>\n",
       "    </tr>\n",
       "    <tr>\n",
       "      <th>219</th>\n",
       "      <td>Ziyou Li</td>\n",
       "      <td>Period-I-Least</td>\n",
       "      <td>Period-II-Moderate</td>\n",
       "      <td>Period-III-Least</td>\n",
       "    </tr>\n",
       "    <tr>\n",
       "      <th>220</th>\n",
       "      <td>Zoé Dumoulin</td>\n",
       "      <td>Period-I-Most</td>\n",
       "      <td>Period-II-Most</td>\n",
       "      <td>Period-III-Most</td>\n",
       "    </tr>\n",
       "  </tbody>\n",
       "</table>\n",
       "<p>221 rows × 4 columns</p>\n",
       "</div>"
      ],
      "text/plain": [
       "       User full name            Period1             Period2  \\\n",
       "0         Achraf Jday     Period-I-Least      Period-II-None   \n",
       "1     Adan Bougherara     Period-I-Least  Period-II-Moderate   \n",
       "2    Adrien Bourmault      Period-I-Most  Period-II-Moderate   \n",
       "3         Alessia Loi      Period-I-None      Period-II-None   \n",
       "4          Alex Chitu  Period-I-Moderate  Period-II-Moderate   \n",
       "..                ...                ...                 ...   \n",
       "216    Yossef Abitbol     Period-I-Least      Period-II-Most   \n",
       "217    Zidane Bourekh     Period-I-Least     Period-II-Least   \n",
       "218         Zin Maafa      Period-I-Most      Period-II-None   \n",
       "219          Ziyou Li     Period-I-Least  Period-II-Moderate   \n",
       "220      Zoé Dumoulin      Period-I-Most      Period-II-Most   \n",
       "\n",
       "                 Period3  \n",
       "0       Period-III-Least  \n",
       "1       Period-III-Least  \n",
       "2    Period-III-Moderate  \n",
       "3        Period-III-None  \n",
       "4    Period-III-Moderate  \n",
       "..                   ...  \n",
       "216      Period-III-Most  \n",
       "217      Period-III-None  \n",
       "218  Period-III-Moderate  \n",
       "219     Period-III-Least  \n",
       "220      Period-III-Most  \n",
       "\n",
       "[221 rows x 4 columns]"
      ]
     },
     "execution_count": 30,
     "metadata": {},
     "output_type": "execute_result"
    }
   ],
   "source": [
    "df"
   ]
  },
  {
   "cell_type": "code",
   "execution_count": 31,
   "id": "df2c8e61",
   "metadata": {},
   "outputs": [],
   "source": [
    "df.to_csv('./period_distance_F20.csv', mode = 'w', index = False, header = True, encoding='utf-8-sig')"
   ]
  },
  {
   "cell_type": "code",
   "execution_count": 32,
   "id": "26637948",
   "metadata": {},
   "outputs": [],
   "source": [
    "group = [[0,0,0,0] for i in range(3)]"
   ]
  },
  {
   "cell_type": "code",
   "execution_count": 33,
   "id": "7ddaad6a",
   "metadata": {},
   "outputs": [],
   "source": [
    "group[0][0] = df['Period1'].value_counts()['Period-I-Most']\n",
    "group[0][1] = df['Period1'].value_counts()['Period-I-Moderate']\n",
    "group[0][2] = df['Period1'].value_counts()['Period-I-Least']\n",
    "group[0][3] = df['Period1'].value_counts()['Period-I-None']"
   ]
  },
  {
   "cell_type": "code",
   "execution_count": 34,
   "id": "939fe031",
   "metadata": {},
   "outputs": [],
   "source": [
    "group[1][0] = df['Period2'].value_counts()['Period-II-Most']\n",
    "group[1][1] = df['Period2'].value_counts()['Period-II-Moderate']\n",
    "group[1][2] = df['Period2'].value_counts()['Period-II-Least']\n",
    "group[1][3] = df['Period2'].value_counts()['Period-II-None']\n",
    "\n",
    "group[2][0] = df['Period3'].value_counts()['Period-III-Most']\n",
    "group[2][1] = df['Period3'].value_counts()['Period-III-Moderate']\n",
    "group[2][2] = df['Period3'].value_counts()['Period-III-Least']\n",
    "group[2][3] = df['Period3'].value_counts()['Period-III-None']"
   ]
  },
  {
   "cell_type": "code",
   "execution_count": 35,
   "id": "693bc1ef",
   "metadata": {},
   "outputs": [
    {
     "data": {
      "text/plain": [
       "[[34, 61, 85, 41], [39, 67, 77, 38], [49, 56, 52, 64]]"
      ]
     },
     "execution_count": 35,
     "metadata": {},
     "output_type": "execute_result"
    }
   ],
   "source": [
    "group"
   ]
  },
  {
   "cell_type": "code",
   "execution_count": 38,
   "id": "0e2ee64d",
   "metadata": {},
   "outputs": [],
   "source": [
    "transition = [[0,0,0,0] for i in range(4)]\n",
    "transition_2 = [[0,0,0,0] for i in range(4)]\n",
    "index = {'Period-I-Most': 0,\n",
    "        'Period-I-Moderate': 1,\n",
    "        'Period-I-Least': 2,\n",
    "        'Period-I-None': 3,\n",
    "        'Period-II-Most': 0,\n",
    "        'Period-II-Moderate': 1,\n",
    "        'Period-II-Least': 2,\n",
    "        'Period-II-None': 3,\n",
    "        'Period-III-Most': 0,\n",
    "        'Period-III-Moderate': 1,\n",
    "        'Period-III-Least': 2,\n",
    "        'Period-III-None': 3}"
   ]
  },
  {
   "cell_type": "code",
   "execution_count": 39,
   "id": "50de4a2a",
   "metadata": {},
   "outputs": [],
   "source": [
    "for i, row in df.iterrows():\n",
    "    first = index[row['Period1']]\n",
    "    second = index[row['Period2']]\n",
    "    transition[first][second] += 1\n",
    "for i, row in df.iterrows():\n",
    "    first = index[row['Period2']]\n",
    "    second = index[row['Period3']]\n",
    "    transition_2[first][second] += 1"
   ]
  },
  {
   "cell_type": "code",
   "execution_count": 40,
   "id": "fe8106ed",
   "metadata": {},
   "outputs": [
    {
     "data": {
      "text/plain": [
       "[[18, 8, 6, 2], [6, 37, 11, 7], [10, 16, 45, 14], [5, 6, 15, 15]]"
      ]
     },
     "execution_count": 40,
     "metadata": {},
     "output_type": "execute_result"
    }
   ],
   "source": [
    "transition"
   ]
  },
  {
   "cell_type": "code",
   "execution_count": 41,
   "id": "3ccbfc3d",
   "metadata": {},
   "outputs": [],
   "source": [
    "transition_p = [[],[],[],[]]\n",
    "for i in range(4):\n",
    "    transition_p[i] = transition[i]/group[0][i]"
   ]
  },
  {
   "cell_type": "code",
   "execution_count": 42,
   "id": "bd7d47d3",
   "metadata": {},
   "outputs": [
    {
     "data": {
      "text/plain": [
       "[array([0.52941176, 0.23529412, 0.17647059, 0.05882353]),\n",
       " array([0.09836066, 0.60655738, 0.18032787, 0.1147541 ]),\n",
       " array([0.11764706, 0.18823529, 0.52941176, 0.16470588]),\n",
       " array([0.12195122, 0.14634146, 0.36585366, 0.36585366])]"
      ]
     },
     "execution_count": 42,
     "metadata": {},
     "output_type": "execute_result"
    }
   ],
   "source": [
    "transition_p"
   ]
  },
  {
   "cell_type": "code",
   "execution_count": 43,
   "id": "47631af0",
   "metadata": {},
   "outputs": [],
   "source": [
    "transition_p2 = [[],[],[],[]]\n",
    "for i in range(4):\n",
    "    transition_p2[i] = transition_2[i]/group[1][i]"
   ]
  },
  {
   "cell_type": "code",
   "execution_count": 44,
   "id": "1ec4b89a",
   "metadata": {},
   "outputs": [
    {
     "data": {
      "text/plain": [
       "[array([0.69230769, 0.1025641 , 0.1025641 , 0.1025641 ]),\n",
       " array([0.10447761, 0.52238806, 0.20895522, 0.1641791 ]),\n",
       " array([0.11688312, 0.16883117, 0.31168831, 0.4025974 ]),\n",
       " array([0.15789474, 0.10526316, 0.26315789, 0.47368421])]"
      ]
     },
     "execution_count": 44,
     "metadata": {},
     "output_type": "execute_result"
    }
   ],
   "source": [
    "transition_p2"
   ]
  },
  {
   "cell_type": "code",
   "execution_count": 46,
   "id": "91ddd4a2",
   "metadata": {},
   "outputs": [],
   "source": [
    "output = [[0 for i in range(12)] for j in range(12)]"
   ]
  },
  {
   "cell_type": "code",
   "execution_count": 57,
   "id": "458d2465",
   "metadata": {},
   "outputs": [
    {
     "name": "stdout",
     "output_type": "stream",
     "text": [
      "[0, 0, 0, 0, 0.1, 0.61, 0.18, 0.11, 0, 0, 0, 0]\n",
      "[0, 0, 0, 0, 0, 0, 0, 0, 0.7, 0.1, 0.1, 0.1]\n"
     ]
    }
   ],
   "source": [
    "for i in range(4):\n",
    "    for j in range(4):\n",
    "        output[i][j+4] = round(transition_p[i][j], 2)\n",
    "for i in range(4):\n",
    "    for j in range(4):\n",
    "        output[i+4][j+8] = round(transition_p2[i][j], 2)\n",
    "#manually modifying sum of row to 1\n",
    "output[0][5] -= 0.01\n",
    "output[3][5] -= 0.01\n",
    "output[4][8] += 0.01\n",
    "output[5][8] += 0.01\n",
    "for i in range(8,12):\n",
    "    output[i][-1] = 1\n",
    "for l in output:\n",
    "    if sum(l) != 1:\n",
    "        print(l)"
   ]
  },
  {
   "cell_type": "code",
   "execution_count": 58,
   "id": "c5f4e2bf",
   "metadata": {},
   "outputs": [],
   "source": [
    "output \n",
    "op = ''\n",
    "for row in output:\n",
    "    for c in row:\n",
    "        op += str(c)\n",
    "        op += ', '"
   ]
  },
  {
   "cell_type": "code",
   "execution_count": 59,
   "id": "632c9ea5",
   "metadata": {},
   "outputs": [
    {
     "data": {
      "text/plain": [
       "'0, 0, 0, 0, 0.53, 0.22999999999999998, 0.18, 0.06, 0, 0, 0, 0, 0, 0, 0, 0, 0.1, 0.61, 0.18, 0.11, 0, 0, 0, 0, 0, 0, 0, 0, 0.12, 0.19, 0.53, 0.16, 0, 0, 0, 0, 0, 0, 0, 0, 0.12, 0.13999999999999999, 0.37, 0.37, 0, 0, 0, 0, 0, 0, 0, 0, 0, 0, 0, 0, 0.7, 0.1, 0.1, 0.1, 0, 0, 0, 0, 0, 0, 0, 0, 0.11, 0.52, 0.21, 0.16, 0, 0, 0, 0, 0, 0, 0, 0, 0.12, 0.17, 0.31, 0.4, 0, 0, 0, 0, 0, 0, 0, 0, 0.16, 0.11, 0.26, 0.47, 0, 0, 0, 0, 0, 0, 0, 0, 0, 0, 0, 1, 0, 0, 0, 0, 0, 0, 0, 0, 0, 0, 0, 1, 0, 0, 0, 0, 0, 0, 0, 0, 0, 0, 0, 1, 0, 0, 0, 0, 0, 0, 0, 0, 0, 0, 0, 1, '"
      ]
     },
     "execution_count": 59,
     "metadata": {},
     "output_type": "execute_result"
    }
   ],
   "source": [
    "op"
   ]
  },
  {
   "cell_type": "code",
   "execution_count": null,
   "id": "2bc349e0",
   "metadata": {},
   "outputs": [],
   "source": []
  }
 ],
 "metadata": {
  "kernelspec": {
   "display_name": "Python 3",
   "language": "python",
   "name": "python3"
  },
  "language_info": {
   "codemirror_mode": {
    "name": "ipython",
    "version": 3
   },
   "file_extension": ".py",
   "mimetype": "text/x-python",
   "name": "python",
   "nbconvert_exporter": "python",
   "pygments_lexer": "ipython3",
   "version": "3.8.3"
  }
 },
 "nbformat": 4,
 "nbformat_minor": 5
}
