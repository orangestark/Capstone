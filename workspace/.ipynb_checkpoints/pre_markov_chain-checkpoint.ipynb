{
 "cells": [
  {
   "cell_type": "code",
   "execution_count": 1,
   "id": "c5e17cae",
   "metadata": {},
   "outputs": [],
   "source": [
    "import pandas as pd\n",
    "from ip_to_geo_1 import ip_to_geo\n",
    "import json\n",
    "from util import *"
   ]
  },
  {
   "cell_type": "code",
   "execution_count": 2,
   "id": "84883cd9",
   "metadata": {},
   "outputs": [],
   "source": [
    "df = pd.read_csv('change_in_geolocation_F20.csv', encoding='utf-8-sig')"
   ]
  },
  {
   "cell_type": "code",
   "execution_count": 29,
   "id": "daec8b77",
   "metadata": {},
   "outputs": [],
   "source": [
    "group = [[0,0,0,0] for i in range(3)]"
   ]
  },
  {
   "cell_type": "code",
   "execution_count": 31,
   "id": "4e2502fc",
   "metadata": {},
   "outputs": [],
   "source": [
    "group[0][0] = df['Assignment 1-4'].value_counts()[0]\n",
    "group[0][1] = df['Assignment 1-4'].value_counts()[1]\n",
    "group[0][2] = df['Assignment 1-4'].value_counts()[2]\n",
    "group[0][3] = df['Assignment 1-4'].value_counts()[3]"
   ]
  },
  {
   "cell_type": "code",
   "execution_count": 32,
   "id": "09cc868f",
   "metadata": {},
   "outputs": [],
   "source": [
    "group[1][0] = df['Assignment 5-8'].value_counts()[0]\n",
    "group[1][1] = df['Assignment 5-8'].value_counts()[1]\n",
    "group[1][2] = df['Assignment 5-8'].value_counts()[2]\n",
    "group[1][3] = df['Assignment 5-8'].value_counts()[3]\n",
    "group[1][3] += df['Assignment 5-8'].value_counts()[4]"
   ]
  },
  {
   "cell_type": "code",
   "execution_count": 33,
   "id": "a15c2f8a",
   "metadata": {},
   "outputs": [],
   "source": [
    "group[2][0] = df['Assignment 9-11'].value_counts()[0]\n",
    "group[2][1] = df['Assignment 9-11'].value_counts()[1]\n",
    "group[2][2] = df['Assignment 9-11'].value_counts()[2]\n",
    "group[2][3] = df['Assignment 9-11'].value_counts()[3]\n",
    "group[2][3] += df['Assignment 9-11'].value_counts()[4]"
   ]
  },
  {
   "cell_type": "code",
   "execution_count": 42,
   "id": "ff8c6955",
   "metadata": {},
   "outputs": [
    {
     "data": {
      "text/plain": [
       "[[159, 34, 33, 3], [136, 46, 36, 11], [164, 43, 18, 4]]"
      ]
     },
     "execution_count": 42,
     "metadata": {},
     "output_type": "execute_result"
    }
   ],
   "source": [
    "group"
   ]
  },
  {
   "cell_type": "code",
   "execution_count": 43,
   "id": "d9dfdcff",
   "metadata": {},
   "outputs": [],
   "source": [
    "transition = [[0,0,0,0] for i in range(4)]"
   ]
  },
  {
   "cell_type": "code",
   "execution_count": 44,
   "id": "f30841b1",
   "metadata": {},
   "outputs": [],
   "source": [
    "for i, row in df.iterrows():\n",
    "    first = int(row['Assignment 1-4'])\n",
    "    second = int(row['Assignment 5-8'])\n",
    "    if second == 4:\n",
    "        second-=1\n",
    "    transition[first][second] += 1\n",
    "    "
   ]
  },
  {
   "cell_type": "code",
   "execution_count": 45,
   "id": "ca16f7ea",
   "metadata": {},
   "outputs": [
    {
     "data": {
      "text/plain": [
       "[[114, 23, 19, 3], [13, 9, 7, 5], [7, 14, 9, 3], [2, 0, 1, 0]]"
      ]
     },
     "execution_count": 45,
     "metadata": {},
     "output_type": "execute_result"
    }
   ],
   "source": [
    "transition"
   ]
  },
  {
   "cell_type": "code",
   "execution_count": 48,
   "id": "3da59247",
   "metadata": {},
   "outputs": [],
   "source": [
    "transition_p = [[],[],[],[]]\n",
    "for i in range(4):\n",
    "    transition_p[i] = transition[i]/group[0][i]"
   ]
  },
  {
   "cell_type": "code",
   "execution_count": 50,
   "id": "8b396dd1",
   "metadata": {},
   "outputs": [
    {
     "data": {
      "text/plain": [
       "[array([0.71698113, 0.14465409, 0.11949686, 0.01886792]),\n",
       " array([0.38235294, 0.26470588, 0.20588235, 0.14705882]),\n",
       " array([0.21212121, 0.42424242, 0.27272727, 0.09090909]),\n",
       " array([0.66666667, 0.        , 0.33333333, 0.        ])]"
      ]
     },
     "execution_count": 50,
     "metadata": {},
     "output_type": "execute_result"
    }
   ],
   "source": [
    "transition_p"
   ]
  },
  {
   "cell_type": "code",
   "execution_count": 53,
   "id": "aacf2f14",
   "metadata": {},
   "outputs": [],
   "source": [
    "transition_2 = [[0,0,0,0] for i in range(4)]\n",
    "for i, row in df.iterrows():\n",
    "    first = int(row['Assignment 5-8'])\n",
    "    second = int(row['Assignment 9-11'])\n",
    "    if first == 4:\n",
    "        first-=1\n",
    "    if second == 4:\n",
    "        second-=1\n",
    "    transition_2[first][second] += 1"
   ]
  },
  {
   "cell_type": "code",
   "execution_count": 55,
   "id": "36e47bf1",
   "metadata": {},
   "outputs": [],
   "source": [
    "transition_p2 = [[],[],[],[]]\n",
    "for i in range(4):\n",
    "    transition_p2[i] = transition_2[i]/group[1][i]"
   ]
  },
  {
   "cell_type": "code",
   "execution_count": 56,
   "id": "e57c26d8",
   "metadata": {},
   "outputs": [
    {
     "data": {
      "text/plain": [
       "[array([0.84558824, 0.125     , 0.02941176, 0.        ]),\n",
       " array([0.52173913, 0.23913043, 0.19565217, 0.04347826]),\n",
       " array([0.69444444, 0.22222222, 0.05555556, 0.02777778]),\n",
       " array([0.        , 0.63636364, 0.27272727, 0.09090909])]"
      ]
     },
     "execution_count": 56,
     "metadata": {},
     "output_type": "execute_result"
    }
   ],
   "source": [
    "transition_p2"
   ]
  },
  {
   "cell_type": "code",
   "execution_count": 64,
   "id": "d1d06013",
   "metadata": {},
   "outputs": [],
   "source": [
    "output = [[0 for i in range(12)] for j in range(12)]"
   ]
  },
  {
   "cell_type": "code",
   "execution_count": 67,
   "id": "1e334100",
   "metadata": {},
   "outputs": [],
   "source": [
    "for i in range(4):\n",
    "    for j in range(4):\n",
    "        output[i][j+4] = round(transition_p[i][j], 2)\n",
    "for i in range(4):\n",
    "    for j in range(4):\n",
    "        output[i+4][j+8] = round(transition_p2[i][j], 2)"
   ]
  },
  {
   "cell_type": "code",
   "execution_count": 68,
   "id": "3aad20b1",
   "metadata": {},
   "outputs": [
    {
     "data": {
      "text/plain": [
       "[[0, 0, 0, 0, 0.72, 0.14, 0.12, 0.02, 0, 0, 0, 0],\n",
       " [0, 0, 0, 0, 0.38, 0.26, 0.21, 0.15, 0, 0, 0, 0],\n",
       " [0, 0, 0, 0, 0.21, 0.42, 0.27, 0.09, 0, 0, 0, 0],\n",
       " [0, 0, 0, 0, 0.67, 0.0, 0.33, 0.0, 0, 0, 0, 0],\n",
       " [0, 0, 0, 0, 0, 0, 0, 0, 0.85, 0.12, 0.03, 0.0],\n",
       " [0, 0, 0, 0, 0, 0, 0, 0, 0.52, 0.24, 0.2, 0.04],\n",
       " [0, 0, 0, 0, 0, 0, 0, 0, 0.69, 0.22, 0.06, 0.03],\n",
       " [0, 0, 0, 0, 0, 0, 0, 0, 0.0, 0.64, 0.27, 0.09],\n",
       " [0, 0, 0, 0, 0, 0, 0, 0, 0, 0, 0, 0],\n",
       " [0, 0, 0, 0, 0, 0, 0, 0, 0, 0, 0, 0],\n",
       " [0, 0, 0, 0, 0, 0, 0, 0, 0, 0, 0, 0],\n",
       " [0, 0, 0, 0, 0, 0, 0, 0, 0, 0, 0, 0]]"
      ]
     },
     "execution_count": 68,
     "metadata": {},
     "output_type": "execute_result"
    }
   ],
   "source": [
    "output"
   ]
  },
  {
   "cell_type": "code",
   "execution_count": 70,
   "id": "b524111b",
   "metadata": {},
   "outputs": [],
   "source": [
    "op = ''\n",
    "for row in output:\n",
    "    for c in row:\n",
    "        op += str(c)\n",
    "        op += ', '"
   ]
  },
  {
   "cell_type": "code",
   "execution_count": 71,
   "id": "b16017a6",
   "metadata": {
    "scrolled": true
   },
   "outputs": [
    {
     "data": {
      "text/plain": [
       "'0, 0, 0, 0, 0.72, 0.14, 0.12, 0.02, 0, 0, 0, 0, 0, 0, 0, 0, 0.38, 0.26, 0.21, 0.15, 0, 0, 0, 0, 0, 0, 0, 0, 0.21, 0.42, 0.27, 0.09, 0, 0, 0, 0, 0, 0, 0, 0, 0.67, 0.0, 0.33, 0.0, 0, 0, 0, 0, 0, 0, 0, 0, 0, 0, 0, 0, 0.85, 0.12, 0.03, 0.0, 0, 0, 0, 0, 0, 0, 0, 0, 0.52, 0.24, 0.2, 0.04, 0, 0, 0, 0, 0, 0, 0, 0, 0.69, 0.22, 0.06, 0.03, 0, 0, 0, 0, 0, 0, 0, 0, 0.0, 0.64, 0.27, 0.09, 0, 0, 0, 0, 0, 0, 0, 0, 0, 0, 0, 0, 0, 0, 0, 0, 0, 0, 0, 0, 0, 0, 0, 0, 0, 0, 0, 0, 0, 0, 0, 0, 0, 0, 0, 0, 0, 0, 0, 0, 0, 0, 0, 0, 0, 0, 0, 0, '"
      ]
     },
     "execution_count": 71,
     "metadata": {},
     "output_type": "execute_result"
    }
   ],
   "source": [
    "op"
   ]
  },
  {
   "cell_type": "code",
   "execution_count": null,
   "id": "4b2f7b2a",
   "metadata": {},
   "outputs": [],
   "source": [
    "df.loc[df['Assignment 1-4'] == 0, 'Assignment 1-4'] = 'Period-I-0'"
   ]
  }
 ],
 "metadata": {
  "kernelspec": {
   "display_name": "Python 3",
   "language": "python",
   "name": "python3"
  },
  "language_info": {
   "codemirror_mode": {
    "name": "ipython",
    "version": 3
   },
   "file_extension": ".py",
   "mimetype": "text/x-python",
   "name": "python",
   "nbconvert_exporter": "python",
   "pygments_lexer": "ipython3",
   "version": "3.8.3"
  }
 },
 "nbformat": 4,
 "nbformat_minor": 5
}
