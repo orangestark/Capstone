{
 "cells": [
  {
   "cell_type": "code",
   "execution_count": 1,
   "id": "b70004c5-e734-4648-9874-08c313918a8b",
   "metadata": {},
   "outputs": [],
   "source": [
    "import numpy as np\n",
    "import matplotlib\n",
    "import matplotlib.pyplot as plt\n",
    "import pandas as pd\n",
    "from sklearn import datasets, linear_model, preprocessing\n",
    "import requests\n",
    "import json\n",
    "import os"
   ]
  },
  {
   "cell_type": "code",
   "execution_count": 89,
   "id": "2da9c669-ab2d-48ff-b2d9-17f8cb1b2cac",
   "metadata": {},
   "outputs": [],
   "source": [
    "# Process the hw and lab grades for every user"
   ]
  },
  {
   "cell_type": "code",
   "execution_count": 83,
   "id": "70e24eb4-e027-4504-9cae-217201442434",
   "metadata": {},
   "outputs": [],
   "source": [
    "hw_dir = '/Users/scottye/Desktop/Capstone/Data_set/capstone/F21/LB'\n",
    "hw_list = []\n",
    "for filename in os.listdir(hw_dir):\n",
    "    f = os.path.join(hw_dir, filename)\n",
    "    # checking if it is a file\n",
    "    if os.path.isfile(f):\n",
    "        hw_list.append(f)"
   ]
  },
  {
   "cell_type": "code",
   "execution_count": 84,
   "id": "07ab941a-ded1-45ad-88ed-4af4679ed550",
   "metadata": {},
   "outputs": [],
   "source": [
    "hw_list.sort()\n",
    "hw_list"
   ]
  },
  {
   "cell_type": "code",
   "execution_count": null,
   "id": "92f0e269-6b28-4b7a-9d8a-c661b93e89e9",
   "metadata": {},
   "outputs": [],
   "source": []
  },
  {
   "cell_type": "code",
   "execution_count": 86,
   "id": "33eeddd4-a797-42f5-9eee-3281ec2c4c11",
   "metadata": {},
   "outputs": [],
   "source": [
    "cols_list = ['ID number', 'Grade/20.00']\n",
    "df = pd.read_csv(hw_list[0], usecols=cols_list)\n",
    "df.rename(columns={\"Grade/20.00\": str(0)}, inplace=True)\n",
    "df.drop_duplicates(subset='ID number', keep=\"last\", inplace=True)\n",
    "\n",
    "for i in range(1, len(hw_list)):\n",
    "    df_next = pd.read_csv(hw_list[i], usecols=cols_list)\n",
    "    df_next.rename(columns={\"Grade/20.00\": str(i)}, inplace=True)\n",
    "    df_next.drop_duplicates(subset='ID number', keep=\"last\", inplace=True)\n",
    "    df = pd.merge(df, df_next, how='outer', on='ID number')\n",
    "    \n"
   ]
  },
  {
   "cell_type": "code",
   "execution_count": 88,
   "id": "6ba92873-495a-4867-a4bf-1244a2c44d11",
   "metadata": {},
   "outputs": [],
   "source": [
    "df.to_csv('/Users/scottye/Desktop/Capstone/Data_set/capstone/F21/LB/lb_grades_20.csv', encoding='utf-8', index=False)"
   ]
  },
  {
   "cell_type": "code",
   "execution_count": null,
   "id": "4e6ed236-b4c0-4411-aab5-b6e39626f2b8",
   "metadata": {},
   "outputs": [],
   "source": [
    "# Regression ME grade on #lab and hw average grade"
   ]
  },
  {
   "cell_type": "code",
   "execution_count": 142,
   "id": "c44ed290-0530-4953-97dc-41ddb28254ee",
   "metadata": {},
   "outputs": [],
   "source": [
    "df_hw = pd.read_csv('/Users/scottye/Desktop/Capstone/Data_set/capstone/F21/HW/hw_grades_21.csv')\n",
    "df_lb = pd.read_csv('/Users/scottye/Desktop/Capstone/Data_set/capstone/F21/LB/lb_grades_21.csv')\n",
    "\n",
    "df_hw = df_hw[['ID number', 'average']]\n",
    "df_lb = df_lb[['ID number', 'counts']]\n",
    "\n",
    "df_lb = df_lb[:-1]\n",
    "df_hw = df_hw[:-1]\n",
    "df_hw['ID number'] = df_lb['ID number'].astype(int)\n",
    "\n",
    "df = pd.merge(df_hw, df_lb, how='inner', on='ID number')\n",
    "df = df[df['average'] != '#DIV/0!']\n"
   ]
  },
  {
   "cell_type": "code",
   "execution_count": 144,
   "id": "b38d4586-438f-456a-afe9-7e6ecd5e932f",
   "metadata": {},
   "outputs": [],
   "source": [
    "df_me = pd.read_csv('/Users/scottye/Desktop/Capstone/Data_set/capstone/F21/ME/ME-1.csv')\n",
    "df = pd.merge(df, df_me[['ID number','Grade/20.00']], on='ID number')\n",
    "df.rename(columns={\"Grade/20.00\": 'me_grade'}, inplace=True)\n",
    "df.dropna()\n",
    "df.to_csv('/Users/scottye/Desktop/Capstone/Data_set/capstone/F21/stats.csv', encoding='utf-8', index=False)"
   ]
  },
  {
   "cell_type": "code",
   "execution_count": null,
   "id": "10dc6286-5cba-4037-b455-53d42e7b607e",
   "metadata": {},
   "outputs": [],
   "source": []
  },
  {
   "cell_type": "code",
   "execution_count": null,
   "id": "6251c205-be0f-42e6-860b-7359e165b919",
   "metadata": {},
   "outputs": [],
   "source": [
    "# F20"
   ]
  },
  {
   "cell_type": "code",
   "execution_count": 149,
   "id": "f289f546-4787-4cf2-991c-44ab97cc42d3",
   "metadata": {},
   "outputs": [],
   "source": [
    "df = pd.read_csv('/Users/scottye/Desktop/Capstone/Data_set/capstone/F20/stats.csv')"
   ]
  },
  {
   "cell_type": "code",
   "execution_count": 151,
   "id": "db36d2f5-2d49-4bc2-bdcc-77fc136e2a4e",
   "metadata": {},
   "outputs": [],
   "source": [
    "x = np.array(df['average'])\n",
    "y = np.array(df['me_grade'])"
   ]
  },
  {
   "cell_type": "code",
   "execution_count": 153,
   "id": "10fb9f96-41f2-48c2-af30-01c575fd60cf",
   "metadata": {},
   "outputs": [
    {
     "data": {
      "image/png": "[encoded data removed]",
      "text/plain": [
       "<Figure size 432x288 with 1 Axes>"
      ]
     },
     "metadata": {
      "needs_background": "light"
     },
     "output_type": "display_data"
    }
   ],
   "source": [
    "plt.plot(x,y,'o')\n",
    "plt.xlabel('average_hw')\n",
    "plt.ylabel('midterm_grade')\n",
    "plt.grid(True)"
   ]
  },
  {
   "cell_type": "code",
   "execution_count": 155,
   "id": "d24762be-6227-471d-ba2b-40822da0560b",
   "metadata": {},
   "outputs": [
    {
     "data": {
      "text/plain": [
       "[<matplotlib.lines.Line2D at 0x7fc8e3720090>]"
      ]
     },
     "execution_count": 155,
     "metadata": {},
     "output_type": "execute_result"
    },
    {
     "data": {
      "image/png": "[encoded data removed]",
      "text/plain": [
       "<Figure size 432x288 with 1 Axes>"
      ]
     },
     "metadata": {
      "needs_background": "light"
     },
     "output_type": "display_data"
    }
   ],
   "source": [
    "x = np.array(df['counts'])\n",
    "y = np.array(df['me_grade'])\n",
    "plt.plot(x,y,'o')\n",
    "plt.xlabel('lab_counts')\n",
    "plt.ylabel('midterm_grade')\n",
    "plt.grid(True)\n",
    "\n",
    "beta1 = 0.42107\n",
    "beta0 = 7.67805\n",
    "xplt = np.array([0,10])          \n",
    "yplt = beta1*xplt + beta0\n",
    "plt.plot(xplt,yplt,'-',linewidth=3)  # Plot the regression line"
   ]
  },
  {
   "cell_type": "code",
   "execution_count": null,
   "id": "94d099ac-bf38-4544-9577-28e80a7bda8b",
   "metadata": {},
   "outputs": [],
   "source": []
  },
  {
   "cell_type": "code",
   "execution_count": 156,
   "id": "27a83e9d-6afe-4428-93df-723756644d8a",
   "metadata": {},
   "outputs": [],
   "source": [
    "df = pd.read_csv('/Users/scottye/Desktop/Capstone/Data_set/capstone/F20/HW/HW01.csv')\n",
    "df['User full name'] = df['First name'] + ' ' + df['Surname']\n",
    "df.to_csv('/Users/scottye/Desktop/try.csv', encoding='utf-8', index=False)"
   ]
  },
  {
   "cell_type": "code",
   "execution_count": 164,
   "id": "c1aed95d-9f23-46e4-9b06-83ccb8b291db",
   "metadata": {},
   "outputs": [],
   "source": [
    "df"
   ]
  },
  {
   "cell_type": "code",
   "execution_count": null,
   "id": "a1462cab-c8a5-40a8-8116-1c9c4259a38b",
   "metadata": {},
   "outputs": [],
   "source": []
  }
 ],
 "metadata": {
  "kernelspec": {
   "display_name": "Python 3",
   "language": "python",
   "name": "python3"
  },
  "language_info": {
   "codemirror_mode": {
    "name": "ipython",
    "version": 3
   },
   "file_extension": ".py",
   "mimetype": "text/x-python",
   "name": "python",
   "nbconvert_exporter": "python",
   "pygments_lexer": "ipython3",
   "version": "3.8.3"
  }
 },
 "nbformat": 4,
 "nbformat_minor": 5
}
