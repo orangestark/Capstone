{
 "cells": [
  {
   "cell_type": "code",
   "execution_count": 1,
   "id": "bdafb0e4",
   "metadata": {},
   "outputs": [],
   "source": [
    "import pandas as pd\n",
    "from ip_to_geo_1 import ip_to_geo\n",
    "import json\n",
    "from util import *"
   ]
  },
  {
   "cell_type": "code",
   "execution_count": 2,
   "id": "f30a1ff0",
   "metadata": {},
   "outputs": [],
   "source": [
    "df = pd.read_csv('All_Periods_distance.csv', encoding='utf-8-sig')"
   ]
  },
  {
   "cell_type": "code",
   "execution_count": 4,
   "id": "ad13ad92",
   "metadata": {},
   "outputs": [],
   "source": [
    "group = [[0,0,0,0] for i in range(3)]"
   ]
  },
  {
   "cell_type": "code",
   "execution_count": 5,
   "id": "7e9bbdb9",
   "metadata": {},
   "outputs": [],
   "source": [
    "group[0][0] = df['Dedication1'].value_counts()['High']\n",
    "group[0][1] = df['Dedication1'].value_counts()['Medium']\n",
    "group[0][2] = df['Dedication1'].value_counts()['Low']\n",
    "group[0][3] = df['Dedication1'].value_counts()[\"None\"]"
   ]
  },
  {
   "cell_type": "code",
   "execution_count": 6,
   "id": "c7584500",
   "metadata": {},
   "outputs": [],
   "source": [
    "group[1][0] = df['Dedication2'].value_counts()['High']\n",
    "group[1][1] = df['Dedication2'].value_counts()['Medium']\n",
    "group[1][2] = df['Dedication2'].value_counts()['Low']\n",
    "group[1][3] = df['Dedication2'].value_counts()[\"None\"]"
   ]
  },
  {
   "cell_type": "code",
   "execution_count": 7,
   "id": "098d60da",
   "metadata": {},
   "outputs": [],
   "source": [
    "group[2][0] = df['Dedication3'].value_counts()['High']\n",
    "group[2][1] = df['Dedication3'].value_counts()['Medium']\n",
    "group[2][2] = df['Dedication3'].value_counts()['Low']\n",
    "group[2][3] = df['Dedication3'].value_counts()[\"None\"]"
   ]
  },
  {
   "cell_type": "code",
   "execution_count": 9,
   "id": "0a0788f9",
   "metadata": {},
   "outputs": [
    {
     "data": {
      "text/plain": [
       "[[21, 114, 79, 34], [20, 142, 53, 33], [15, 128, 71, 34]]"
      ]
     },
     "execution_count": 9,
     "metadata": {},
     "output_type": "execute_result"
    }
   ],
   "source": [
    "group"
   ]
  },
  {
   "cell_type": "code",
   "execution_count": 8,
   "id": "363a30ec",
   "metadata": {},
   "outputs": [],
   "source": [
    "transition = [[0,0,0,0] for i in range(4)]\n",
    "transition_2 = [[0,0,0,0] for i in range(4)]\n",
    "index = {'High': 0,\n",
    "        'Medium': 1,\n",
    "        'Low': 2,\n",
    "        'None': 3}"
   ]
  },
  {
   "cell_type": "code",
   "execution_count": 10,
   "id": "38cd33a9",
   "metadata": {},
   "outputs": [],
   "source": [
    "for i, row in df.iterrows():\n",
    "    first = index[row['Dedication1']]\n",
    "    second = index[row['Dedication2']]\n",
    "    transition[first][second] += 1\n",
    "for i, row in df.iterrows():\n",
    "    first = index[row['Dedication2']]\n",
    "    second = index[row['Dedication3']]\n",
    "    transition_2[first][second] += 1"
   ]
  },
  {
   "cell_type": "code",
   "execution_count": 11,
   "id": "7e81107e",
   "metadata": {},
   "outputs": [
    {
     "data": {
      "text/plain": [
       "[[14, 7, 0, 0], [6, 95, 13, 0], [0, 39, 40, 0], [0, 1, 0, 33]]"
      ]
     },
     "execution_count": 11,
     "metadata": {},
     "output_type": "execute_result"
    }
   ],
   "source": [
    "transition"
   ]
  },
  {
   "cell_type": "code",
   "execution_count": 12,
   "id": "39fcb03b",
   "metadata": {},
   "outputs": [
    {
     "data": {
      "text/plain": [
       "[[15, 2, 2, 1], [0, 117, 25, 0], [0, 9, 44, 0], [0, 0, 0, 33]]"
      ]
     },
     "execution_count": 12,
     "metadata": {},
     "output_type": "execute_result"
    }
   ],
   "source": [
    "transition_2"
   ]
  },
  {
   "cell_type": "code",
   "execution_count": 13,
   "id": "0fd1e462",
   "metadata": {},
   "outputs": [],
   "source": [
    "transition_p = [[],[],[],[]]\n",
    "for i in range(4):\n",
    "    transition_p[i] = transition[i]/group[0][i]"
   ]
  },
  {
   "cell_type": "code",
   "execution_count": 14,
   "id": "84404e0d",
   "metadata": {},
   "outputs": [
    {
     "data": {
      "text/plain": [
       "[array([0.66666667, 0.33333333, 0.        , 0.        ]),\n",
       " array([0.05263158, 0.83333333, 0.11403509, 0.        ]),\n",
       " array([0.        , 0.49367089, 0.50632911, 0.        ]),\n",
       " array([0.        , 0.02941176, 0.        , 0.97058824])]"
      ]
     },
     "execution_count": 14,
     "metadata": {},
     "output_type": "execute_result"
    }
   ],
   "source": [
    "transition_p"
   ]
  },
  {
   "cell_type": "code",
   "execution_count": 15,
   "id": "3fee7613",
   "metadata": {},
   "outputs": [],
   "source": [
    "transition_p2 = [[],[],[],[]]\n",
    "for i in range(4):\n",
    "    transition_p2[i] = transition_2[i]/group[1][i]"
   ]
  },
  {
   "cell_type": "code",
   "execution_count": 16,
   "id": "2e8dd07e",
   "metadata": {},
   "outputs": [
    {
     "data": {
      "text/plain": [
       "[array([0.75, 0.1 , 0.1 , 0.05]),\n",
       " array([0.        , 0.82394366, 0.17605634, 0.        ]),\n",
       " array([0.        , 0.16981132, 0.83018868, 0.        ]),\n",
       " array([0., 0., 0., 1.])]"
      ]
     },
     "execution_count": 16,
     "metadata": {},
     "output_type": "execute_result"
    }
   ],
   "source": [
    "transition_p2"
   ]
  },
  {
   "cell_type": "code",
   "execution_count": 17,
   "id": "5dc8b764",
   "metadata": {},
   "outputs": [],
   "source": [
    "output = [[0 for i in range(12)] for j in range(12)]"
   ]
  },
  {
   "cell_type": "code",
   "execution_count": 24,
   "id": "d6fcd264",
   "metadata": {},
   "outputs": [],
   "source": [
    "for i in range(4):\n",
    "    for j in range(4):\n",
    "        output[i][j+4] = round(transition_p[i][j], 2)\n",
    "for i in range(4):\n",
    "    for j in range(4):\n",
    "        output[i+4][j+8] = round(transition_p2[i][j], 2)\n",
    "#manually modifying sum of row to 1\n",
    "output[1][7] += 0.01\n",
    "for i in range(8,12):\n",
    "    output[i][-1] = 0.5\n",
    "    output[i][-2] = 0.5\n",
    "\n",
    "for l in output:\n",
    "    if sum(l) != 1:\n",
    "        print(l)"
   ]
  },
  {
   "cell_type": "code",
   "execution_count": 25,
   "id": "8ca32d9b",
   "metadata": {},
   "outputs": [],
   "source": [
    "output \n",
    "op = ''\n",
    "for row in output:\n",
    "    for c in row:\n",
    "        op += str(c)\n",
    "        op += ', '"
   ]
  },
  {
   "cell_type": "code",
   "execution_count": 26,
   "id": "cb3eeeb9",
   "metadata": {},
   "outputs": [
    {
     "data": {
      "text/plain": [
       "'0, 0, 0, 0, 0.67, 0.33, 0.0, 0.0, 0, 0, 0, 0, 0, 0, 0, 0, 0.05, 0.83, 0.11, 0.01, 0, 0, 0, 0, 0, 0, 0, 0, 0.0, 0.49, 0.51, 0.0, 0, 0, 0, 0, 0, 0, 0, 0, 0.0, 0.03, 0.0, 0.97, 0, 0, 0, 0, 0, 0, 0, 0, 0, 0, 0, 0, 0.75, 0.1, 0.1, 0.05, 0, 0, 0, 0, 0, 0, 0, 0, 0.0, 0.82, 0.18, 0.0, 0, 0, 0, 0, 0, 0, 0, 0, 0.0, 0.17, 0.83, 0.0, 0, 0, 0, 0, 0, 0, 0, 0, 0.0, 0.0, 0.0, 1.0, 0, 0, 0, 0, 0, 0, 0, 0, 0, 0, 0.5, 0.5, 0, 0, 0, 0, 0, 0, 0, 0, 0, 0, 0.5, 0.5, 0, 0, 0, 0, 0, 0, 0, 0, 0, 0, 0.5, 0.5, 0, 0, 0, 0, 0, 0, 0, 0, 0, 0, 0.5, 0.5, '"
      ]
     },
     "execution_count": 26,
     "metadata": {},
     "output_type": "execute_result"
    }
   ],
   "source": [
    "op"
   ]
  },
  {
   "cell_type": "code",
   "execution_count": 28,
   "id": "f0aa7db2",
   "metadata": {},
   "outputs": [],
   "source": [
    "df.loc[df['Dedication1'] == 'High', 'Dedication1'] = 'Period-I-High'\n",
    "df.loc[df['Dedication1'] == 'Medium', 'Dedication1'] = 'Period-I-Medium'\n",
    "df.loc[df['Dedication1'] == 'Low', 'Dedication1'] = 'Period-I-Low'\n",
    "df.loc[df['Dedication1'] == 'None', 'Dedication1'] = 'Period-I-None'\n",
    "\n",
    "df.loc[df['Dedication2'] == 'High', 'Dedication2'] = 'Period-II-High'\n",
    "df.loc[df['Dedication2'] == 'Medium', 'Dedication2'] = 'Period-II-Medium'\n",
    "df.loc[df['Dedication2'] == 'Low', 'Dedication2'] = 'Period-II-Low'\n",
    "df.loc[df['Dedication2'] == 'None', 'Dedication2'] = 'Period-II-None'\n",
    "\n",
    "df.loc[df['Dedication3'] == 'High', 'Dedication3'] = 'Period-III-High'\n",
    "df.loc[df['Dedication3'] == 'Medium', 'Dedication3'] = 'Period-III-Medium'\n",
    "df.loc[df['Dedication3'] == 'Low', 'Dedication3'] = 'Period-III-Low'\n",
    "df.loc[df['Dedication3'] == 'None', 'Dedication3'] = 'Period-III-None'"
   ]
  },
  {
   "cell_type": "code",
   "execution_count": 29,
   "id": "838f8d85",
   "metadata": {},
   "outputs": [
    {
     "data": {
      "text/html": [
       "<div>\n",
       "<style scoped>\n",
       "    .dataframe tbody tr th:only-of-type {\n",
       "        vertical-align: middle;\n",
       "    }\n",
       "\n",
       "    .dataframe tbody tr th {\n",
       "        vertical-align: top;\n",
       "    }\n",
       "\n",
       "    .dataframe thead th {\n",
       "        text-align: right;\n",
       "    }\n",
       "</style>\n",
       "<table border=\"1\" class=\"dataframe\">\n",
       "  <thead>\n",
       "    <tr style=\"text-align: right;\">\n",
       "      <th></th>\n",
       "      <th>User full name</th>\n",
       "      <th>Dedication1</th>\n",
       "      <th>Dedication2</th>\n",
       "      <th>Dedication3</th>\n",
       "    </tr>\n",
       "  </thead>\n",
       "  <tbody>\n",
       "    <tr>\n",
       "      <th>0</th>\n",
       "      <td>Abdullah Al Jawhi</td>\n",
       "      <td>Period-I-None</td>\n",
       "      <td>Period-II-None</td>\n",
       "      <td>Period-III-None</td>\n",
       "    </tr>\n",
       "    <tr>\n",
       "      <th>1</th>\n",
       "      <td>Achraf Jday</td>\n",
       "      <td>Period-I-Medium</td>\n",
       "      <td>Period-II-Medium</td>\n",
       "      <td>Period-III-Medium</td>\n",
       "    </tr>\n",
       "    <tr>\n",
       "      <th>2</th>\n",
       "      <td>Adan Bougherara</td>\n",
       "      <td>Period-I-High</td>\n",
       "      <td>Period-II-High</td>\n",
       "      <td>Period-III-High</td>\n",
       "    </tr>\n",
       "    <tr>\n",
       "      <th>3</th>\n",
       "      <td>Adrien Bourmault</td>\n",
       "      <td>Period-I-High</td>\n",
       "      <td>Period-II-Medium</td>\n",
       "      <td>Period-III-Medium</td>\n",
       "    </tr>\n",
       "    <tr>\n",
       "      <th>4</th>\n",
       "      <td>Alessia Loi</td>\n",
       "      <td>Period-I-Low</td>\n",
       "      <td>Period-II-Low</td>\n",
       "      <td>Period-III-Low</td>\n",
       "    </tr>\n",
       "    <tr>\n",
       "      <th>...</th>\n",
       "      <td>...</td>\n",
       "      <td>...</td>\n",
       "      <td>...</td>\n",
       "      <td>...</td>\n",
       "    </tr>\n",
       "    <tr>\n",
       "      <th>243</th>\n",
       "      <td>Youssef Abdalaziz</td>\n",
       "      <td>Period-I-None</td>\n",
       "      <td>Period-II-None</td>\n",
       "      <td>Period-III-None</td>\n",
       "    </tr>\n",
       "    <tr>\n",
       "      <th>244</th>\n",
       "      <td>Zidane Bourekh</td>\n",
       "      <td>Period-I-Medium</td>\n",
       "      <td>Period-II-Medium</td>\n",
       "      <td>Period-III-Medium</td>\n",
       "    </tr>\n",
       "    <tr>\n",
       "      <th>245</th>\n",
       "      <td>Zin Maafa</td>\n",
       "      <td>Period-I-Medium</td>\n",
       "      <td>Period-II-Medium</td>\n",
       "      <td>Period-III-Medium</td>\n",
       "    </tr>\n",
       "    <tr>\n",
       "      <th>246</th>\n",
       "      <td>Ziyou Li</td>\n",
       "      <td>Period-I-Medium</td>\n",
       "      <td>Period-II-Medium</td>\n",
       "      <td>Period-III-Low</td>\n",
       "    </tr>\n",
       "    <tr>\n",
       "      <th>247</th>\n",
       "      <td>Zoé Dumoulin</td>\n",
       "      <td>Period-I-Low</td>\n",
       "      <td>Period-II-Low</td>\n",
       "      <td>Period-III-Low</td>\n",
       "    </tr>\n",
       "  </tbody>\n",
       "</table>\n",
       "<p>248 rows × 4 columns</p>\n",
       "</div>"
      ],
      "text/plain": [
       "        User full name      Dedication1       Dedication2        Dedication3\n",
       "0    Abdullah Al Jawhi    Period-I-None    Period-II-None    Period-III-None\n",
       "1          Achraf Jday  Period-I-Medium  Period-II-Medium  Period-III-Medium\n",
       "2      Adan Bougherara    Period-I-High    Period-II-High    Period-III-High\n",
       "3     Adrien Bourmault    Period-I-High  Period-II-Medium  Period-III-Medium\n",
       "4          Alessia Loi     Period-I-Low     Period-II-Low     Period-III-Low\n",
       "..                 ...              ...               ...                ...\n",
       "243  Youssef Abdalaziz    Period-I-None    Period-II-None    Period-III-None\n",
       "244     Zidane Bourekh  Period-I-Medium  Period-II-Medium  Period-III-Medium\n",
       "245          Zin Maafa  Period-I-Medium  Period-II-Medium  Period-III-Medium\n",
       "246           Ziyou Li  Period-I-Medium  Period-II-Medium     Period-III-Low\n",
       "247       Zoé Dumoulin     Period-I-Low     Period-II-Low     Period-III-Low\n",
       "\n",
       "[248 rows x 4 columns]"
      ]
     },
     "execution_count": 29,
     "metadata": {},
     "output_type": "execute_result"
    }
   ],
   "source": [
    "df"
   ]
  },
  {
   "cell_type": "code",
   "execution_count": 31,
   "id": "4b55e426",
   "metadata": {},
   "outputs": [],
   "source": [
    "df.to_csv('./period_distance_with_clusters_F20.csv', mode = 'w', index = False, header = True, encoding='utf-8-sig')"
   ]
  },
  {
   "cell_type": "code",
   "execution_count": null,
   "id": "78e37812",
   "metadata": {},
   "outputs": [],
   "source": []
  }
 ],
 "metadata": {
  "kernelspec": {
   "display_name": "Python 3",
   "language": "python",
   "name": "python3"
  },
  "language_info": {
   "codemirror_mode": {
    "name": "ipython",
    "version": 3
   },
   "file_extension": ".py",
   "mimetype": "text/x-python",
   "name": "python",
   "nbconvert_exporter": "python",
   "pygments_lexer": "ipython3",
   "version": "3.8.3"
  }
 },
 "nbformat": 4,
 "nbformat_minor": 5
}
